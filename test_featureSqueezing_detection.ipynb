{
 "cells": [
  {
   "cell_type": "code",
   "execution_count": 1,
   "metadata": {},
   "outputs": [],
   "source": [
    "import numpy as np\n",
    "import matplotlib.pyplot as plt\n",
    "import pickle\n",
    "import os\n",
    "import scipy.io\n",
    "import copy"
   ]
  },
  {
   "cell_type": "code",
   "execution_count": 2,
   "metadata": {},
   "outputs": [],
   "source": [
    "adv_robust_root_path = os.path.join(\"..\", \"adv_robust\")\n",
    "import sys\n",
    "# include parent dir in the python search path\n",
    "sys.path.append(adv_robust_root_path)\n",
    "import fig_utils as u\n",
    "import gllim"
   ]
  },
  {
   "cell_type": "code",
   "execution_count": 7,
   "metadata": {},
   "outputs": [],
   "source": [
    "%matplotlib inline\n",
    "%load_ext autoreload\n",
    "%autoreload 2"
   ]
  },
  {
   "cell_type": "code",
   "execution_count": 3,
   "metadata": {},
   "outputs": [],
   "source": [
    "# load data, normal and adv images\n",
    "\n",
    "data_root_path = os.path.join(adv_robust_root_path, \"tf_autozoom_2d_randVec20\")\n",
    "data_path = os.path.join(data_root_path, \"all_results.pkl\")\n",
    "with open(data_path, \"rb\") as f:\n",
    "    d = pickle.load(f)\n",
    "true_train_x = d[\"true_x\"]\n",
    "true_train_y = d[\"true_y\"]\n",
    "adv_train_x = d[\"adv_x\"]\n",
    "\n",
    "\n",
    "# read in adversarial results for testing data\n",
    "data_path = os.path.join(data_root_path, \"all_test_results.pkl\")\n",
    "with open(data_path, \"rb\") as f:\n",
    "    d = pickle.load(f)\n",
    "true_test_x = d[\"true_x\"]\n",
    "true_test_y = d[\"true_y\"]\n",
    "adv_test_x = d[\"adv_x\"]\n",
    "\n",
    "\n",
    "# load corrupted images\n",
    "with open(os.path.join(adv_robust_root_path, \"corrupt_img\", \"test_corrupt_img.pkl\"), \"rb\") as f:\n",
    "    corrupted_test_x = pickle.load(f)\n",
    "with open(os.path.join(adv_robust_root_path, \"corrupt_img\", \"test_corrupt_region.pkl\"), \"rb\") as f:\n",
    "    corrupted_test_region = pickle.load(f)\n",
    "with open(os.path.join(adv_robust_root_path, \"corrupt_img\", \"test_rec_img.pkl\"), \"rb\") as f:\n",
    "    rec_test_x = pickle.load(f)"
   ]
  },
  {
   "cell_type": "code",
   "execution_count": 13,
   "metadata": {},
   "outputs": [],
   "source": [
    "from datasets import MNISTDataset"
   ]
  },
  {
   "cell_type": "code",
   "execution_count": 16,
   "metadata": {},
   "outputs": [
    {
     "name": "stdout",
     "output_type": "stream",
     "text": [
      "Downloading data from https://s3.amazonaws.com/img-datasets/mnist.npz\n",
      "11493376/11490434 [==============================] - 1s 0us/step\n"
     ]
    }
   ],
   "source": [
    "ds = MNISTDataset()\n",
    "X_test, Y_test = ds.get_test_dataset()"
   ]
  },
  {
   "cell_type": "code",
   "execution_count": 17,
   "metadata": {},
   "outputs": [
    {
     "data": {
      "text/plain": [
       "(10000, 28, 28, 1)"
      ]
     },
     "execution_count": 17,
     "metadata": {},
     "output_type": "execute_result"
    }
   ],
   "source": [
    "X_test.shape"
   ]
  },
  {
   "cell_type": "code",
   "execution_count": 18,
   "metadata": {},
   "outputs": [
    {
     "data": {
      "text/plain": [
       "(10000, 10)"
      ]
     },
     "execution_count": 18,
     "metadata": {},
     "output_type": "execute_result"
    }
   ],
   "source": [
    "Y_test.shape"
   ]
  },
  {
   "cell_type": "code",
   "execution_count": 21,
   "metadata": {},
   "outputs": [],
   "source": [
    "a = X_test[0, :, :]"
   ]
  },
  {
   "cell_type": "code",
   "execution_count": 23,
   "metadata": {},
   "outputs": [
    {
     "data": {
      "image/png": "[encoded data removed]",
      "text/plain": [
       "<Figure size 432x288 with 2 Axes>"
      ]
     },
     "metadata": {
      "needs_background": "light"
     },
     "output_type": "display_data"
    }
   ],
   "source": [
    "u.plot_img(a.reshape([28, 28]))"
   ]
  },
  {
   "cell_type": "code",
   "execution_count": 39,
   "metadata": {},
   "outputs": [],
   "source": [
    "def transform_data(d, img_dim=32):\n",
    "    n = d.shape[1]\n",
    "    return np.transpose(copy.deepcopy(d)).reshape([n, 32, 32, 1])"
   ]
  },
  {
   "cell_type": "code",
   "execution_count": 40,
   "metadata": {},
   "outputs": [
    {
     "data": {
      "image/png": "[encoded data removed]",
      "text/plain": [
       "<Figure size 432x288 with 2 Axes>"
      ]
     },
     "metadata": {
      "needs_background": "light"
     },
     "output_type": "display_data"
    }
   ],
   "source": [
    "temp = transform_data(true_test_x)\n",
    "u.plot_img(temp[1, :, :, 0].squeeze())"
   ]
  },
  {
   "cell_type": "code",
   "execution_count": 41,
   "metadata": {},
   "outputs": [],
   "source": [
    "train_true_img = transform_data(true_train_x)\n",
    "train_adv_img = transform_data(adv_train_x)"
   ]
  },
  {
   "cell_type": "code",
   "execution_count": null,
   "metadata": {},
   "outputs": [],
   "source": []
  }
 ],
 "metadata": {
  "kernelspec": {
   "display_name": "conda_p3",
   "language": "python",
   "name": "python3"
  },
  "language_info": {
   "codemirror_mode": {
    "name": "ipython",
    "version": 3
   },
   "file_extension": ".py",
   "mimetype": "text/x-python",
   "name": "python",
   "nbconvert_exporter": "python",
   "pygments_lexer": "ipython3",
   "version": "3.6.8"
  },
  "toc": {
   "base_numbering": 1,
   "nav_menu": {},
   "number_sections": true,
   "sideBar": true,
   "skip_h1_title": false,
   "title_cell": "Table of Contents",
   "title_sidebar": "Contents",
   "toc_cell": false,
   "toc_position": {},
   "toc_section_display": true,
   "toc_window_display": false
  },
  "varInspector": {
   "cols": {
    "lenName": 16,
    "lenType": 16,
    "lenVar": 40
   },
   "kernels_config": {
    "python": {
     "delete_cmd_postfix": "",
     "delete_cmd_prefix": "del ",
     "library": "var_list.py",
     "varRefreshCmd": "print(var_dic_list())"
    },
    "r": {
     "delete_cmd_postfix": ") ",
     "delete_cmd_prefix": "rm(",
     "library": "var_list.r",
     "varRefreshCmd": "cat(var_dic_list()) "
    }
   },
   "types_to_exclude": [
    "module",
    "function",
    "builtin_function_or_method",
    "instance",
    "_Feature"
   ],
   "window_display": false
  }
 },
 "nbformat": 4,
 "nbformat_minor": 2
}
