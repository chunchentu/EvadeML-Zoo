{
 "cells": [
  {
   "cell_type": "code",
   "execution_count": 1,
   "metadata": {},
   "outputs": [],
   "source": [
    "import numpy as np\n",
    "import matplotlib.pyplot as plt\n",
    "import pickle\n",
    "import os\n",
    "import scipy.io\n",
    "import copy"
   ]
  },
  {
   "cell_type": "code",
   "execution_count": 2,
   "metadata": {},
   "outputs": [],
   "source": [
    "adv_robust_root_path = os.path.join(\"..\", \"adv_robust\")\n",
    "import sys\n",
    "# include parent dir in the python search path\n",
    "sys.path.append(adv_robust_root_path)\n",
    "import fig_utils as u\n",
    "import gllim"
   ]
  },
  {
   "cell_type": "code",
   "execution_count": 3,
   "metadata": {},
   "outputs": [],
   "source": [
    "%matplotlib inline\n",
    "%load_ext autoreload\n",
    "%autoreload 2"
   ]
  },
  {
   "cell_type": "code",
   "execution_count": 12,
   "metadata": {},
   "outputs": [],
   "source": [
    "# load data, normal and adv images\n",
    "\n",
    "data_root_path = os.path.join(adv_robust_root_path, \"tf_autozoom_2d_randVec20\")\n",
    "data_path = os.path.join(data_root_path, \"all_results.pkl\")\n",
    "with open(data_path, \"rb\") as f:\n",
    "    d = pickle.load(f)\n",
    "true_train_x = d[\"true_x\"]\n",
    "true_train_y = d[\"true_y\"]\n",
    "adv_train_x = d[\"adv_x\"]\n",
    "\n",
    "\n",
    "# read in adversarial results for testing data\n",
    "data_path = os.path.join(data_root_path, \"all_test_results.pkl\")\n",
    "with open(data_path, \"rb\") as f:\n",
    "    d = pickle.load(f)\n",
    "true_test_x = d[\"true_x\"]\n",
    "true_test_y = d[\"true_y\"]\n",
    "adv_test_x = d[\"adv_x\"]\n",
    "\n",
    "\n",
    "# load corrupted images\n",
    "with open(os.path.join(adv_robust_root_path, \"corrupt_img\", \"test_corrupt_img.pkl\"), \"rb\") as f:\n",
    "    corrupted_test_x = pickle.load(f)\n",
    "with open(os.path.join(adv_robust_root_path, \"corrupt_img\", \"test_corrupt_region.pkl\"), \"rb\") as f:\n",
    "    corrupted_test_region = pickle.load(f)\n",
    "with open(os.path.join(adv_robust_root_path, \"corrupt_img\", \"test_rec_img.pkl\"), \"rb\") as f:\n",
    "    rec_test_x = pickle.load(f)\n",
    "    \n",
    "d = scipy.io.loadmat(os.path.join(adv_robust_root_path, \"corrupt_img\", \"corrupt_img.mat\"))\n",
    "corrupted_train_x = d[\"train_corrupt_img\"]"
   ]
  },
  {
   "cell_type": "code",
   "execution_count": 13,
   "metadata": {},
   "outputs": [],
   "source": [
    "def transform_data(d, img_dim=32):\n",
    "    n = d.shape[1]\n",
    "    return np.transpose(copy.deepcopy(d)).reshape([n, 32, 32, 1])"
   ]
  },
  {
   "cell_type": "code",
   "execution_count": 14,
   "metadata": {},
   "outputs": [
    {
     "data": {
      "image/png": "[encoded data removed]",
      "text/plain": [
       "<Figure size 432x288 with 2 Axes>"
      ]
     },
     "metadata": {
      "needs_background": "light"
     },
     "output_type": "display_data"
    }
   ],
   "source": [
    "temp = transform_data(true_test_x)\n",
    "u.plot_img(temp[1, :, :, 0].squeeze())"
   ]
  },
  {
   "cell_type": "code",
   "execution_count": 88,
   "metadata": {},
   "outputs": [],
   "source": [
    "# all_train_data = np.hstack([true_train_x, adv_train_x, corrupted_train_x])\n",
    "all_train_data = np.hstack([true_train_x, adv_train_x])\n",
    "all_train_label = np.concatenate((np.zeros(598), np.ones(598)))\n",
    "all_train_y = np.hstack([true_train_x, true_train_x])\n",
    "# all_train_data = transform_data(all_train_data)"
   ]
  },
  {
   "cell_type": "code",
   "execution_count": 20,
   "metadata": {},
   "outputs": [
    {
     "data": {
      "image/png": "[encoded data removed]",
      "text/plain": [
       "<Figure size 432x288 with 2 Axes>"
      ]
     },
     "metadata": {
      "needs_background": "light"
     },
     "output_type": "display_data"
    },
    {
     "data": {
      "image/png": "[encoded data removed]",
      "text/plain": [
       "<Figure size 432x288 with 2 Axes>"
      ]
     },
     "metadata": {
      "needs_background": "light"
     },
     "output_type": "display_data"
    }
   ],
   "source": [
    "u.plot_img(all_train_data[1, :, :, 0].squeeze())\n",
    "u.plot_img(all_train_data[1+598, :, :, 0].squeeze())"
   ]
  },
  {
   "cell_type": "code",
   "execution_count": 44,
   "metadata": {},
   "outputs": [
    {
     "name": "stdout",
     "output_type": "stream",
     "text": [
      "[GLLiM] Numpy version\n",
      "[GLLiM] load model: ..\\adv_robust\\test_code\\face_model.mat\n",
      "[GLLiM] parameters: K: 20, L: 12, cstr.Sigma: i*\n",
      "[GLLiM] set Lt: 3\n"
     ]
    }
   ],
   "source": [
    "model = gllim.GLLiM_np(os.path.join(adv_robust_root_path, \"test_code\", \"face_model.mat\"))\n",
    "Lt = 3\n",
    "model.layers = [] # just for integrating the code\n",
    "model.set_Lt(Lt)\n",
    "model.get_ths()"
   ]
  },
  {
   "cell_type": "code",
   "execution_count": 32,
   "metadata": {},
   "outputs": [],
   "source": [
    "from detections.base import DetectionEvaluator"
   ]
  },
  {
   "cell_type": "code",
   "execution_count": 33,
   "metadata": {},
   "outputs": [],
   "source": [
    "result_folder_detection = os.path.join(\"results\", \"detection\")\n",
    "csv_fname = \"detection.csv\"\n",
    "de = DetectionEvaluator(model, result_folder_detection, csv_fname, \"Face\")"
   ]
  },
  {
   "cell_type": "code",
   "execution_count": 72,
   "metadata": {},
   "outputs": [
    {
     "name": "stdout",
     "output_type": "stream",
     "text": [
      "{'squeezers': 'bit_depth_8', 'distance_measure': 'l2', 'fpr': 0.05}\n"
     ]
    }
   ],
   "source": [
    "params_str = \"FeatureSqueezing?squeezers=bit_depth_8&distance_measure=l2&fpr=0.05\"\n",
    "detector_name = [ele.strip() for ele in params_str.split(';') if ele.strip()!= '']\n",
    "detector = de.get_detector_by_name(detector_name[0])"
   ]
  },
  {
   "cell_type": "code",
   "execution_count": 73,
   "metadata": {},
   "outputs": [
    {
     "name": "stdout",
     "output_type": "stream",
     "text": [
      "{'squeezers': 'bit_depth_8', 'distance_measure': 'l2', 'fpr': 0.05}\n"
     ]
    },
    {
     "ename": "NameError",
     "evalue": "name 'Model' is not defined",
     "output_type": "error",
     "traceback": [
      "\u001b[1;31m---------------------------------------------------------------------------\u001b[0m",
      "\u001b[1;31mNameError\u001b[0m                                 Traceback (most recent call last)",
      "\u001b[1;32m<ipython-input-73-fc8173f69a74>\u001b[0m in \u001b[0;36m<module>\u001b[1;34m\u001b[0m\n\u001b[0;32m      1\u001b[0m \u001b[1;32mfrom\u001b[0m \u001b[0mdetections\u001b[0m\u001b[1;33m.\u001b[0m\u001b[0mfeature_squeezing\u001b[0m \u001b[1;32mimport\u001b[0m \u001b[0mFeatureSqueezingDetector\u001b[0m\u001b[1;33m\u001b[0m\u001b[1;33m\u001b[0m\u001b[0m\n\u001b[0;32m      2\u001b[0m \u001b[0mfs_detector\u001b[0m \u001b[1;33m=\u001b[0m \u001b[0mFeatureSqueezingDetector\u001b[0m\u001b[1;33m(\u001b[0m\u001b[0mmodel\u001b[0m\u001b[1;33m,\u001b[0m \u001b[0mparams_str\u001b[0m\u001b[1;33m)\u001b[0m\u001b[1;33m\u001b[0m\u001b[1;33m\u001b[0m\u001b[0m\n\u001b[1;32m----> 3\u001b[1;33m \u001b[0mfs_detector\u001b[0m\u001b[1;33m.\u001b[0m\u001b[0mget_distance\u001b[0m\u001b[1;33m(\u001b[0m\u001b[0mtemp\u001b[0m\u001b[1;33m)\u001b[0m\u001b[1;33m\u001b[0m\u001b[1;33m\u001b[0m\u001b[0m\n\u001b[0m",
      "\u001b[1;32mF:\\EvadeML-Zoo\\detections\\feature_squeezing.py\u001b[0m in \u001b[0;36mget_distance\u001b[1;34m(self, X1, X2)\u001b[0m\n\u001b[0;32m    180\u001b[0m         \u001b[0minput_to_normalized_output\u001b[0m \u001b[1;33m=\u001b[0m \u001b[1;32mlambda\u001b[0m \u001b[0mx\u001b[0m\u001b[1;33m:\u001b[0m \u001b[0mnormalize_func\u001b[0m\u001b[1;33m(\u001b[0m\u001b[0mreshape_2d\u001b[0m\u001b[1;33m(\u001b[0m\u001b[0mself\u001b[0m\u001b[1;33m.\u001b[0m\u001b[0meval_layer_output\u001b[0m\u001b[1;33m(\u001b[0m\u001b[0mx\u001b[0m\u001b[1;33m,\u001b[0m \u001b[0mlayer_id\u001b[0m\u001b[1;33m)\u001b[0m\u001b[1;33m)\u001b[0m\u001b[1;33m)\u001b[0m\u001b[1;33m\u001b[0m\u001b[1;33m\u001b[0m\u001b[0m\n\u001b[0;32m    181\u001b[0m \u001b[1;33m\u001b[0m\u001b[0m\n\u001b[1;32m--> 182\u001b[1;33m         \u001b[0mval_orig_norm\u001b[0m \u001b[1;33m=\u001b[0m \u001b[0minput_to_normalized_output\u001b[0m\u001b[1;33m(\u001b[0m\u001b[0mX1\u001b[0m\u001b[1;33m)\u001b[0m\u001b[1;33m\u001b[0m\u001b[1;33m\u001b[0m\u001b[0m\n\u001b[0m\u001b[0;32m    183\u001b[0m \u001b[1;33m\u001b[0m\u001b[0m\n\u001b[0;32m    184\u001b[0m         \u001b[1;32mif\u001b[0m \u001b[0mX2\u001b[0m \u001b[1;32mis\u001b[0m \u001b[1;32mNone\u001b[0m\u001b[1;33m:\u001b[0m\u001b[1;33m\u001b[0m\u001b[1;33m\u001b[0m\u001b[0m\n",
      "\u001b[1;32mF:\\EvadeML-Zoo\\detections\\feature_squeezing.py\u001b[0m in \u001b[0;36m<lambda>\u001b[1;34m(x)\u001b[0m\n\u001b[0;32m    178\u001b[0m \u001b[1;33m\u001b[0m\u001b[0m\n\u001b[0;32m    179\u001b[0m         \u001b[0mnormalize_func\u001b[0m \u001b[1;33m=\u001b[0m \u001b[0mself\u001b[0m\u001b[1;33m.\u001b[0m\u001b[0mget_normalizer_by_name\u001b[0m\u001b[1;33m(\u001b[0m\u001b[0mnormalizer_name\u001b[0m\u001b[1;33m)\u001b[0m\u001b[1;33m\u001b[0m\u001b[1;33m\u001b[0m\u001b[0m\n\u001b[1;32m--> 180\u001b[1;33m         \u001b[0minput_to_normalized_output\u001b[0m \u001b[1;33m=\u001b[0m \u001b[1;32mlambda\u001b[0m \u001b[0mx\u001b[0m\u001b[1;33m:\u001b[0m \u001b[0mnormalize_func\u001b[0m\u001b[1;33m(\u001b[0m\u001b[0mreshape_2d\u001b[0m\u001b[1;33m(\u001b[0m\u001b[0mself\u001b[0m\u001b[1;33m.\u001b[0m\u001b[0meval_layer_output\u001b[0m\u001b[1;33m(\u001b[0m\u001b[0mx\u001b[0m\u001b[1;33m,\u001b[0m \u001b[0mlayer_id\u001b[0m\u001b[1;33m)\u001b[0m\u001b[1;33m)\u001b[0m\u001b[1;33m)\u001b[0m\u001b[1;33m\u001b[0m\u001b[1;33m\u001b[0m\u001b[0m\n\u001b[0m\u001b[0;32m    181\u001b[0m \u001b[1;33m\u001b[0m\u001b[0m\n\u001b[0;32m    182\u001b[0m         \u001b[0mval_orig_norm\u001b[0m \u001b[1;33m=\u001b[0m \u001b[0minput_to_normalized_output\u001b[0m\u001b[1;33m(\u001b[0m\u001b[0mX1\u001b[0m\u001b[1;33m)\u001b[0m\u001b[1;33m\u001b[0m\u001b[1;33m\u001b[0m\u001b[0m\n",
      "\u001b[1;32mF:\\EvadeML-Zoo\\detections\\feature_squeezing.py\u001b[0m in \u001b[0;36meval_layer_output\u001b[1;34m(self, X, layer_id)\u001b[0m\n\u001b[0;32m    198\u001b[0m \u001b[1;33m\u001b[0m\u001b[0m\n\u001b[0;32m    199\u001b[0m     \u001b[1;32mdef\u001b[0m \u001b[0meval_layer_output\u001b[0m\u001b[1;33m(\u001b[0m\u001b[0mself\u001b[0m\u001b[1;33m,\u001b[0m \u001b[0mX\u001b[0m\u001b[1;33m,\u001b[0m \u001b[0mlayer_id\u001b[0m\u001b[1;33m)\u001b[0m\u001b[1;33m:\u001b[0m\u001b[1;33m\u001b[0m\u001b[1;33m\u001b[0m\u001b[0m\n\u001b[1;32m--> 200\u001b[1;33m         \u001b[0mlayer_output\u001b[0m \u001b[1;33m=\u001b[0m \u001b[0mModel\u001b[0m\u001b[1;33m(\u001b[0m\u001b[0minputs\u001b[0m\u001b[1;33m=\u001b[0m\u001b[0mself\u001b[0m\u001b[1;33m.\u001b[0m\u001b[0mmodel\u001b[0m\u001b[1;33m.\u001b[0m\u001b[0mlayers\u001b[0m\u001b[1;33m[\u001b[0m\u001b[1;36m0\u001b[0m\u001b[1;33m]\u001b[0m\u001b[1;33m.\u001b[0m\u001b[0minput\u001b[0m\u001b[1;33m,\u001b[0m \u001b[0moutputs\u001b[0m\u001b[1;33m=\u001b[0m\u001b[0mself\u001b[0m\u001b[1;33m.\u001b[0m\u001b[0mmodel\u001b[0m\u001b[1;33m.\u001b[0m\u001b[0mlayers\u001b[0m\u001b[1;33m[\u001b[0m\u001b[0mlayer_id\u001b[0m\u001b[1;33m]\u001b[0m\u001b[1;33m.\u001b[0m\u001b[0moutput\u001b[0m\u001b[1;33m)\u001b[0m\u001b[1;33m\u001b[0m\u001b[1;33m\u001b[0m\u001b[0m\n\u001b[0m\u001b[0;32m    201\u001b[0m         \u001b[1;32mreturn\u001b[0m \u001b[0mlayer_output\u001b[0m\u001b[1;33m.\u001b[0m\u001b[0mpredict\u001b[0m\u001b[1;33m(\u001b[0m\u001b[0mX\u001b[0m\u001b[1;33m)\u001b[0m\u001b[1;33m\u001b[0m\u001b[1;33m\u001b[0m\u001b[0m\n\u001b[0;32m    202\u001b[0m \u001b[1;33m\u001b[0m\u001b[0m\n",
      "\u001b[1;31mNameError\u001b[0m: name 'Model' is not defined"
     ]
    }
   ],
   "source": [
    "from detections.feature_squeezing import FeatureSqueezingDetector\n",
    "fs_detector = FeatureSqueezingDetector(model, params_str)\n",
    "fs_detector.get_distance(temp)"
   ]
  },
  {
   "cell_type": "code",
   "execution_count": 74,
   "metadata": {},
   "outputs": [
    {
     "data": {
      "text/plain": [
       "(-1, 'none', 'l2', ['bit_depth_8'])"
      ]
     },
     "execution_count": 74,
     "metadata": {},
     "output_type": "execute_result"
    }
   ],
   "source": [
    "fs_detector.get_config()"
   ]
  },
  {
   "cell_type": "code",
   "execution_count": 75,
   "metadata": {},
   "outputs": [],
   "source": [
    "squeezer = fs_detector.get_squeezer_by_name(fs_detector.get_config()[3][0])"
   ]
  },
  {
   "cell_type": "code",
   "execution_count": 76,
   "metadata": {},
   "outputs": [],
   "source": [
    "target_index = 1\n",
    "target_image = all_train_data[1+598, :, :, :]\n",
    "squeeze_image = squeezer(target_image)"
   ]
  },
  {
   "cell_type": "code",
   "execution_count": 77,
   "metadata": {},
   "outputs": [
    {
     "data": {
      "image/png": "[encoded data removed]",
      "text/plain": [
       "<Figure size 432x288 with 2 Axes>"
      ]
     },
     "metadata": {
      "needs_background": "light"
     },
     "output_type": "display_data"
    }
   ],
   "source": [
    "u.plot_img(squeeze_image.squeeze())"
   ]
  },
  {
   "cell_type": "code",
   "execution_count": 78,
   "metadata": {},
   "outputs": [
    {
     "data": {
      "image/png": "[encoded data removed]",
      "text/plain": [
       "<Figure size 432x288 with 2 Axes>"
      ]
     },
     "metadata": {
      "needs_background": "light"
     },
     "output_type": "display_data"
    }
   ],
   "source": [
    "squeeze_image = squeezer(all_train_data)\n",
    "u.plot_img(squeeze_image[1+598, :, :, 0].squeeze())"
   ]
  },
  {
   "cell_type": "code",
   "execution_count": 81,
   "metadata": {},
   "outputs": [
    {
     "data": {
      "image/png": "[encoded data removed]",
      "text/plain": [
       "<Figure size 432x288 with 2 Axes>"
      ]
     },
     "metadata": {
      "needs_background": "light"
     },
     "output_type": "display_data"
    }
   ],
   "source": [
    "squeeze_image = squeezer(true_test_x)\n",
    "u.plot_img(squeeze_image[:, 1])"
   ]
  },
  {
   "cell_type": "markdown",
   "metadata": {},
   "source": [
    "# Try on different bit depth"
   ]
  },
  {
   "cell_type": "code",
   "execution_count": null,
   "metadata": {},
   "outputs": [],
   "source": [
    "from detections.feature_squeezing import FeatureSqueezingDetector"
   ]
  },
  {
   "cell_type": "code",
   "execution_count": 105,
   "metadata": {},
   "outputs": [
    {
     "name": "stdout",
     "output_type": "stream",
     "text": [
      "{'squeezers': 'bit_depth_4', 'distance_measure': 'l2', 'fpr': 0.05}\n"
     ]
    }
   ],
   "source": [
    "bit_depth = 4\n",
    "params_str = \"FeatureSqueezing?squeezers=bit_depth_{}&distance_measure=l2&fpr=0.05\".format(bit_depth)\n",
    "\n",
    "\n",
    "fs_detector = FeatureSqueezingDetector(model, params_str)\n",
    "squeezer = fs_detector.get_squeezer_by_name(fs_detector.get_config()[3][0])"
   ]
  },
  {
   "cell_type": "code",
   "execution_count": 106,
   "metadata": {},
   "outputs": [],
   "source": [
    "squeeze_x = squeezer(all_train_data)\n",
    "pred_orig, _, _ = model.predict(all_train_data)\n",
    "pred_squeeze, _, _ = model.predict(squeeze_x)"
   ]
  },
  {
   "cell_type": "code",
   "execution_count": 107,
   "metadata": {},
   "outputs": [],
   "source": [
    "pred_sse = np.sum((pred_orig - pred_squeeze)**2, axis=0)"
   ]
  },
  {
   "cell_type": "code",
   "execution_count": 108,
   "metadata": {},
   "outputs": [
    {
     "data": {
      "text/plain": [
       "[<matplotlib.lines.Line2D at 0x2258526fc18>]"
      ]
     },
     "execution_count": 108,
     "metadata": {},
     "output_type": "execute_result"
    },
    {
     "data": {
      "image/png": "[encoded data removed]",
      "text/plain": [
       "<Figure size 432x288 with 1 Axes>"
      ]
     },
     "metadata": {
      "needs_background": "light"
     },
     "output_type": "display_data"
    }
   ],
   "source": [
    "plt.plot(pred_sse)"
   ]
  },
  {
   "cell_type": "code",
   "execution_count": 177,
   "metadata": {},
   "outputs": [],
   "source": [
    "from sklearn.preprocessing import normalize"
   ]
  },
  {
   "cell_type": "code",
   "execution_count": 178,
   "metadata": {},
   "outputs": [],
   "source": [
    "def get_squeezer(param, squeezer_type=\"bit_depth\"):\n",
    "    if squeezer_type == \"bit_depth\":\n",
    "        params_str = \"FeatureSqueezing?squeezers=bit_depth_{}&distance_measure=l2&fpr=0.05\".format(param)\n",
    "    elif squeezer_type == \"median_filter\":\n",
    "        params_str = \"FeatureSqueezing?squeezers=median_filter_{}&distance_measure=l2&fpr=0.05\".format(param)\n",
    "    else:\n",
    "        raise Exception(\"unknown squeezer type\")\n",
    "    fs_detector = FeatureSqueezingDetector(model, params_str)\n",
    "    squeezer = fs_detector.get_squeezer_by_name(fs_detector.get_config()[3][0])\n",
    "    return squeezer\n",
    "    \n",
    "\n",
    "def get_squeeze_difference(normal_x, squeezer):\n",
    "    normal_x = copy.deepcopy(normal_x)\n",
    "    pred_orig, _, _ = model.predict(normal_x)\n",
    "    \n",
    "    n = normal_x.shape[1]\n",
    "    normal_x = np.transpose(normal_x)\n",
    "    normal_x = np.reshape(normal_x, [n, 32, 32, 1])\n",
    "    squeeze_x = squeezer(normal_x)\n",
    "    \n",
    "    squeeze_x = np.reshape(squeeze_x, [n, 1024])\n",
    "    squeeze_x = np.transpose(squeeze_x)\n",
    "    \n",
    "    pred_squeeze, _, _ = model.predict(squeeze_x)\n",
    "#     norm_orig = scipy.special.softmax(pred_orig, axis=0)\n",
    "#     norm_squeeze = scipy.special.softmax(pred_squeeze, axis=0)\n",
    "    norm_orig = normalize(pred_orig, axis=0)\n",
    "    norm_squeeze = normalize(pred_squeeze, axis=0)\n",
    "    \n",
    "    return np.sum((norm_orig - norm_squeeze)**2, axis=0)\n",
    "    "
   ]
  },
  {
   "cell_type": "code",
   "execution_count": 140,
   "metadata": {},
   "outputs": [
    {
     "name": "stdout",
     "output_type": "stream",
     "text": [
      "{'squeezers': 'bit_depth_4', 'distance_measure': 'l2', 'fpr': 0.05}\n",
      "Bit depth: 4, fpr: 0.05, threshold: 0.00032572461114181467\n"
     ]
    }
   ],
   "source": [
    "fpr = 0.05\n",
    "\n",
    "bit_depth = 4\n",
    "squeezer = get_squeezer(bit_depth)\n",
    "train_normal_sse = get_squeeze_difference(true_train_x, squeezer)\n",
    "threshold = np.quantile(train_normal_sse, 1 - fpr)\n",
    "print(\"Bit depth: {}, fpr: {}, threshold: {}\".format(bit_depth, fpr, threshold))"
   ]
  },
  {
   "cell_type": "code",
   "execution_count": 114,
   "metadata": {},
   "outputs": [],
   "source": [
    "test_normal_sse = get_squeeze_difference(true_test_x, squeezer)\n",
    "test_adv_sse = get_squeeze_difference(adv_test_x, squeezer)"
   ]
  },
  {
   "cell_type": "code",
   "execution_count": 119,
   "metadata": {},
   "outputs": [
    {
     "name": "stdout",
     "output_type": "stream",
     "text": [
      "Normal: correct: 94, wrong: 6\n",
      "Adv: correct: 16, wrong: 84\n"
     ]
    }
   ],
   "source": [
    "test_normal_correct = len(np.where(test_normal_sse < threshold)[0])\n",
    "test_normal_wrong = len(np.where(test_normal_sse >= threshold)[0])\n",
    "\n",
    "test_adv_correct = len(np.where(test_adv_sse >= threshold)[0])\n",
    "test_adv_wrong = len(np.where(test_adv_sse < threshold)[0])\n",
    "\n",
    "print(\"Normal: correct: {}, wrong: {}\".format(test_normal_correct, test_normal_wrong))\n",
    "print(\"Adv: correct: {}, wrong: {}\".format(test_adv_correct, test_adv_wrong))"
   ]
  },
  {
   "cell_type": "code",
   "execution_count": 122,
   "metadata": {},
   "outputs": [
    {
     "name": "stdout",
     "output_type": "stream",
     "text": [
      "{'squeezers': 'bit_depth_1', 'distance_measure': 'l2', 'fpr': 0.05}\n",
      "Bit depth: 1, fpr: 0.05, threshold: 1.2180516505476389\n",
      "Normal: correct: 92, wrong: 8\n",
      "Adv: correct: 10, wrong: 90\n",
      "\n",
      "{'squeezers': 'bit_depth_2', 'distance_measure': 'l2', 'fpr': 0.05}\n",
      "Bit depth: 2, fpr: 0.05, threshold: 0.21197760156556517\n",
      "Normal: correct: 94, wrong: 6\n",
      "Adv: correct: 4, wrong: 96\n",
      "\n",
      "{'squeezers': 'bit_depth_3', 'distance_measure': 'l2', 'fpr': 0.05}\n",
      "Bit depth: 3, fpr: 0.05, threshold: 0.027006883731498243\n",
      "Normal: correct: 93, wrong: 7\n",
      "Adv: correct: 1, wrong: 99\n",
      "\n",
      "{'squeezers': 'bit_depth_4', 'distance_measure': 'l2', 'fpr': 0.05}\n",
      "Bit depth: 4, fpr: 0.05, threshold: 0.00032572461114181467\n",
      "Normal: correct: 94, wrong: 6\n",
      "Adv: correct: 16, wrong: 84\n",
      "\n",
      "{'squeezers': 'bit_depth_5', 'distance_measure': 'l2', 'fpr': 0.05}\n",
      "Bit depth: 5, fpr: 0.05, threshold: 0.00042611678119482805\n",
      "Normal: correct: 95, wrong: 5\n",
      "Adv: correct: 1, wrong: 99\n",
      "\n",
      "{'squeezers': 'bit_depth_6', 'distance_measure': 'l2', 'fpr': 0.05}\n",
      "Bit depth: 6, fpr: 0.05, threshold: 0.0003137038381778802\n",
      "Normal: correct: 94, wrong: 6\n",
      "Adv: correct: 0, wrong: 100\n",
      "\n",
      "{'squeezers': 'bit_depth_7', 'distance_measure': 'l2', 'fpr': 0.05}\n",
      "Bit depth: 7, fpr: 0.05, threshold: 6.066887625686464e-05\n",
      "Normal: correct: 92, wrong: 8\n",
      "Adv: correct: 1, wrong: 99\n",
      "\n",
      "{'squeezers': 'bit_depth_8', 'distance_measure': 'l2', 'fpr': 0.05}\n",
      "Bit depth: 8, fpr: 0.05, threshold: 1.1983479252929763e-06\n",
      "Normal: correct: 96, wrong: 4\n",
      "Adv: correct: 9, wrong: 91\n",
      "\n"
     ]
    }
   ],
   "source": [
    "\n",
    "for bit_depth in [1, 2, 3, 4, 5, 6, 7, 8]:\n",
    "    squeezer = get_squeezer(bit_depth)\n",
    "    train_normal_sse = get_squeeze_difference(true_train_x, squeezer)\n",
    "    threshold = np.quantile(train_normal_sse, 1 - fpr)\n",
    "    print(\"Bit depth: {}, fpr: {}, threshold: {}\".format(bit_depth, fpr, threshold))\n",
    "    test_normal_sse = get_squeeze_difference(true_test_x, squeezer)\n",
    "    test_adv_sse = get_squeeze_difference(adv_test_x, squeezer)\n",
    "    test_normal_correct = len(np.where(test_normal_sse < threshold)[0])\n",
    "    test_normal_wrong = len(np.where(test_normal_sse >= threshold)[0])\n",
    "\n",
    "    test_adv_correct = len(np.where(test_adv_sse >= threshold)[0])\n",
    "    test_adv_wrong = len(np.where(test_adv_sse < threshold)[0])\n",
    "\n",
    "    print(\"Normal: correct: {}, wrong: {}\".format(test_normal_correct, test_normal_wrong))\n",
    "    print(\"Adv: correct: {}, wrong: {}\".format(test_adv_correct, test_adv_wrong))\n",
    "    print(\"\")"
   ]
  },
  {
   "cell_type": "code",
   "execution_count": 132,
   "metadata": {},
   "outputs": [
    {
     "data": {
      "image/png": "[encoded data removed]",
      "text/plain": [
       "<Figure size 432x288 with 2 Axes>"
      ]
     },
     "metadata": {
      "needs_background": "light"
     },
     "output_type": "display_data"
    }
   ],
   "source": [
    "target_index = 6\n",
    "target_adv_x = adv_test_x[:, target_index]\n",
    "target_y = true_test_y[:, target_index]\n",
    "target_x = true_test_x[:, target_index]\n",
    "u.plot_img(target_adv_x)"
   ]
  },
  {
   "cell_type": "code",
   "execution_count": 129,
   "metadata": {},
   "outputs": [
    {
     "name": "stdout",
     "output_type": "stream",
     "text": [
      "Adv pred sse: 0.32848346765820713\n"
     ]
    }
   ],
   "source": [
    "adv_pred, _, _ = model.predict(target_adv_x[:, None])\n",
    "adv_pred_sse = np.sum((adv_pred - target_y)**2)\n",
    "print(\"Adv pred sse: {}\".format(adv_pred_sse))"
   ]
  },
  {
   "cell_type": "code",
   "execution_count": 133,
   "metadata": {},
   "outputs": [
    {
     "name": "stdout",
     "output_type": "stream",
     "text": [
      "{'squeezers': 'bit_depth_1', 'distance_measure': 'l2', 'fpr': 0.05}\n",
      "Bit depth:1, true sse: 0.7734842627571751, adv sse: 0.04009824193075058\n",
      "{'squeezers': 'bit_depth_2', 'distance_measure': 'l2', 'fpr': 0.05}\n",
      "Bit depth:2, true sse: 0.431415022921715, adv sse: 0.0050404387966991706\n",
      "{'squeezers': 'bit_depth_3', 'distance_measure': 'l2', 'fpr': 0.05}\n",
      "Bit depth:3, true sse: 0.325495892821857, adv sse: 8.923946586644665e-05\n",
      "{'squeezers': 'bit_depth_4', 'distance_measure': 'l2', 'fpr': 0.05}\n",
      "Bit depth:4, true sse: 0.3304556936597785, adv sse: 1.3658816699235494e-05\n",
      "{'squeezers': 'bit_depth_5', 'distance_measure': 'l2', 'fpr': 0.05}\n",
      "Bit depth:5, true sse: 0.33435193655404194, adv sse: 2.370551180837576e-05\n",
      "{'squeezers': 'bit_depth_6', 'distance_measure': 'l2', 'fpr': 0.05}\n",
      "Bit depth:6, true sse: 0.33181292331159695, adv sse: 7.222739888551251e-06\n",
      "{'squeezers': 'bit_depth_7', 'distance_measure': 'l2', 'fpr': 0.05}\n",
      "Bit depth:7, true sse: 0.3303999294075966, adv sse: 2.140991538228792e-06\n",
      "{'squeezers': 'bit_depth_8', 'distance_measure': 'l2', 'fpr': 0.05}\n",
      "Bit depth:8, true sse: 0.3279675199595295, adv sse: 2.6245227784257154e-07\n"
     ]
    },
    {
     "data": {
      "image/png": "[encoded data removed]",
      "text/plain": [
       "<Figure size 432x288 with 2 Axes>"
      ]
     },
     "metadata": {
      "needs_background": "light"
     },
     "output_type": "display_data"
    },
    {
     "data": {
      "image/png": "[encoded data removed]",
      "text/plain": [
       "<Figure size 432x288 with 2 Axes>"
      ]
     },
     "metadata": {
      "needs_background": "light"
     },
     "output_type": "display_data"
    },
    {
     "data": {
      "image/png": "[encoded data removed]",
      "text/plain": [
       "<Figure size 432x288 with 2 Axes>"
      ]
     },
     "metadata": {
      "needs_background": "light"
     },
     "output_type": "display_data"
    },
    {
     "data": {
      "image/png": "[encoded data removed]",
      "text/plain": [
       "<Figure size 432x288 with 2 Axes>"
      ]
     },
     "metadata": {
      "needs_background": "light"
     },
     "output_type": "display_data"
    },
    {
     "data": {
      "image/png": "[encoded data removed]",
      "text/plain": [
       "<Figure size 432x288 with 2 Axes>"
      ]
     },
     "metadata": {
      "needs_background": "light"
     },
     "output_type": "display_data"
    },
    {
     "data": {
      "image/png": "[encoded data removed]",
      "text/plain": [
       "<Figure size 432x288 with 2 Axes>"
      ]
     },
     "metadata": {
      "needs_background": "light"
     },
     "output_type": "display_data"
    },
    {
     "data": {
      "image/png": "[encoded data removed]",
      "text/plain": [
       "<Figure size 432x288 with 2 Axes>"
      ]
     },
     "metadata": {
      "needs_background": "light"
     },
     "output_type": "display_data"
    },
    {
     "data": {
      "image/png": "[encoded data removed]",
      "text/plain": [
       "<Figure size 432x288 with 2 Axes>"
      ]
     },
     "metadata": {
      "needs_background": "light"
     },
     "output_type": "display_data"
    },
    {
     "data": {
      "image/png": "[encoded data removed]",
      "text/plain": [
       "<Figure size 432x288 with 2 Axes>"
      ]
     },
     "metadata": {
      "needs_background": "light"
     },
     "output_type": "display_data"
    },
    {
     "data": {
      "image/png": "[encoded data removed]",
      "text/plain": [
       "<Figure size 432x288 with 2 Axes>"
      ]
     },
     "metadata": {
      "needs_background": "light"
     },
     "output_type": "display_data"
    },
    {
     "data": {
      "image/png": "[encoded data removed]",
      "text/plain": [
       "<Figure size 432x288 with 2 Axes>"
      ]
     },
     "metadata": {
      "needs_background": "light"
     },
     "output_type": "display_data"
    },
    {
     "data": {
      "image/png": "[encoded data removed]",
      "text/plain": [
       "<Figure size 432x288 with 2 Axes>"
      ]
     },
     "metadata": {
      "needs_background": "light"
     },
     "output_type": "display_data"
    },
    {
     "data": {
      "image/png": "[encoded data removed]",
      "text/plain": [
       "<Figure size 432x288 with 2 Axes>"
      ]
     },
     "metadata": {
      "needs_background": "light"
     },
     "output_type": "display_data"
    },
    {
     "data": {
      "image/png": "[encoded data removed]",
      "text/plain": [
       "<Figure size 432x288 with 2 Axes>"
      ]
     },
     "metadata": {
      "needs_background": "light"
     },
     "output_type": "display_data"
    },
    {
     "data": {
      "image/png": "[encoded data removed]",
      "text/plain": [
       "<Figure size 432x288 with 2 Axes>"
      ]
     },
     "metadata": {
      "needs_background": "light"
     },
     "output_type": "display_data"
    },
    {
     "data": {
      "image/png": "[encoded data removed]",
      "text/plain": [
       "<Figure size 432x288 with 2 Axes>"
      ]
     },
     "metadata": {
      "needs_background": "light"
     },
     "output_type": "display_data"
    }
   ],
   "source": [
    "for bit_depth in [1, 2, 3, 4, 5, 6, 7, 8]:\n",
    "    squeezer = get_squeezer(bit_depth)\n",
    "    squeeze_adv_x = squeezer(target_adv_x)\n",
    "    adv_squeeze_pred, _, _ = model.predict(squeeze_adv_x[:, None])\n",
    "    adv_squeeze_pred_sse = np.sum((adv_squeeze_pred - target_y)**2)\n",
    "    squeeze_sse = np.sum((adv_squeeze_pred - adv_pred)**2)\n",
    "    print(\"Bit depth:{}, true sse: {}, adv sse: {}\".format(bit_depth, adv_squeeze_pred_sse, squeeze_sse))\n",
    "    u.plot_img(squeeze_adv_x)\n",
    "    u.plot_img(squeeze_adv_x - target_x)"
   ]
  },
  {
   "cell_type": "code",
   "execution_count": 142,
   "metadata": {},
   "outputs": [
    {
     "name": "stdout",
     "output_type": "stream",
     "text": [
      "{'squeezers': 'median_filter_2', 'distance_measure': 'l2', 'fpr': 0.05}\n",
      "filter size: 4, fpr: 0.05, threshold: 0.10103544602106022\n",
      "Normal: correct: 95, wrong: 5\n",
      "Adv: correct: 10, wrong: 90\n",
      "\n",
      "{'squeezers': 'median_filter_3', 'distance_measure': 'l2', 'fpr': 0.05}\n",
      "filter size: 4, fpr: 0.05, threshold: 0.034879590936489985\n",
      "Normal: correct: 94, wrong: 6\n",
      "Adv: correct: 2, wrong: 98\n",
      "\n",
      "{'squeezers': 'median_filter_4', 'distance_measure': 'l2', 'fpr': 0.05}\n",
      "filter size: 4, fpr: 0.05, threshold: 0.13507162551406177\n",
      "Normal: correct: 97, wrong: 3\n",
      "Adv: correct: 5, wrong: 95\n",
      "\n",
      "{'squeezers': 'median_filter_5', 'distance_measure': 'l2', 'fpr': 0.05}\n",
      "filter size: 4, fpr: 0.05, threshold: 0.18136869203131223\n",
      "Normal: correct: 94, wrong: 6\n",
      "Adv: correct: 4, wrong: 96\n",
      "\n"
     ]
    }
   ],
   "source": [
    "for param in [2, 3, 4, 5]:\n",
    "    squeezer = get_squeezer(param, squeezer_type=\"median_filter\")\n",
    "    train_normal_sse = get_squeeze_difference(true_train_x, squeezer)\n",
    "    threshold = np.quantile(train_normal_sse, 1 - fpr)\n",
    "    print(\"filter size: {}, fpr: {}, threshold: {}\".format(bit_depth, fpr, threshold))\n",
    "    test_normal_sse = get_squeeze_difference(true_test_x, squeezer)\n",
    "    test_adv_sse = get_squeeze_difference(adv_test_x, squeezer)\n",
    "    test_normal_correct = len(np.where(test_normal_sse < threshold)[0])\n",
    "    test_normal_wrong = len(np.where(test_normal_sse >= threshold)[0])\n",
    "\n",
    "    test_adv_correct = len(np.where(test_adv_sse >= threshold)[0])\n",
    "    test_adv_wrong = len(np.where(test_adv_sse < threshold)[0])\n",
    "\n",
    "    print(\"Normal: correct: {}, wrong: {}\".format(test_normal_correct, test_normal_wrong))\n",
    "    print(\"Adv: correct: {}, wrong: {}\".format(test_adv_correct, test_adv_wrong))\n",
    "    print(\"\")"
   ]
  },
  {
   "cell_type": "code",
   "execution_count": 179,
   "metadata": {},
   "outputs": [
    {
     "name": "stdout",
     "output_type": "stream",
     "text": [
      "{'squeezers': 'bit_depth_1', 'distance_measure': 'l2', 'fpr': 0.05}\n",
      "{'squeezers': 'bit_depth_2', 'distance_measure': 'l2', 'fpr': 0.05}\n",
      "{'squeezers': 'bit_depth_3', 'distance_measure': 'l2', 'fpr': 0.05}\n",
      "{'squeezers': 'bit_depth_4', 'distance_measure': 'l2', 'fpr': 0.05}\n",
      "{'squeezers': 'bit_depth_5', 'distance_measure': 'l2', 'fpr': 0.05}\n",
      "{'squeezers': 'bit_depth_6', 'distance_measure': 'l2', 'fpr': 0.05}\n",
      "{'squeezers': 'bit_depth_7', 'distance_measure': 'l2', 'fpr': 0.05}\n",
      "{'squeezers': 'bit_depth_8', 'distance_measure': 'l2', 'fpr': 0.05}\n"
     ]
    }
   ],
   "source": [
    "# get joint score\n",
    "all_train_normal_scores = np.zeros([598, 8])\n",
    "all_test_normal_scores = np.zeros([100, 8])\n",
    "all_test_adv_scores = np.zeros([100, 8])\n",
    "\n",
    "\n",
    "for i,bit_depth in enumerate([1, 2, 3, 4, 5, 6, 7, 8]):\n",
    "    squeezer = get_squeezer(bit_depth)\n",
    "    train_normal_sse = get_squeeze_difference(true_train_x, squeezer)\n",
    "    all_train_normal_scores[:, i] = train_normal_sse\n",
    "    \n",
    "    test_normal_sse = get_squeeze_difference(true_test_x, squeezer)\n",
    "    all_test_normal_scores[:, i] = test_normal_sse\n",
    "    \n",
    "    test_adv_sse = get_squeeze_difference(adv_test_x, squeezer)\n",
    "    all_test_adv_scores[:, i] = test_adv_sse\n",
    "    \n",
    "#     threshold = np.quantile(train_normal_sse, 1 - fpr)\n",
    "#     print(\"Bit depth: {}, fpr: {}, threshold: {}\".format(bit_depth, fpr, threshold))\n",
    "    \n",
    "    \n",
    "#     test_adv_sse = get_squeeze_difference(adv_test_x, squeezer)\n",
    "#     test_normal_correct = len(np.where(test_normal_sse < threshold)[0])\n",
    "#     test_normal_wrong = len(np.where(test_normal_sse >= threshold)[0])\n",
    "\n",
    "#     test_adv_correct = len(np.where(test_adv_sse >= threshold)[0])\n",
    "#     test_adv_wrong = len(np.where(test_adv_sse < threshold)[0])\n",
    "\n",
    "#     print(\"Normal: correct: {}, wrong: {}\".format(test_normal_correct, test_normal_wrong))\n",
    "#     print(\"Adv: correct: {}, wrong: {}\".format(test_adv_correct, test_adv_wrong))\n",
    "#     print(\"\")"
   ]
  },
  {
   "cell_type": "code",
   "execution_count": 180,
   "metadata": {},
   "outputs": [
    {
     "name": "stdout",
     "output_type": "stream",
     "text": [
      "0.3386713332499915\n"
     ]
    }
   ],
   "source": [
    "train_normal_joint_score = np.max(all_train_normal_scores, axis=1)\n",
    "threshold = np.quantile(train_normal_joint_score, 1-fpr)\n",
    "print(threshold)"
   ]
  },
  {
   "cell_type": "code",
   "execution_count": 181,
   "metadata": {},
   "outputs": [
    {
     "name": "stdout",
     "output_type": "stream",
     "text": [
      "Normal: correct: 95, wrong: 5\n",
      "Adv: correct: 7, wrong: 93\n"
     ]
    }
   ],
   "source": [
    "test_normal_joint_score = np.max(all_test_normal_scores, axis=1)\n",
    "test_adv_joint_score = np.max(all_test_adv_scores, axis=1)\n",
    "\n",
    "test_normal_correct = len(np.where(test_normal_joint_score < threshold)[0])\n",
    "test_normal_wrong = len(np.where(test_normal_joint_score >= threshold)[0])\n",
    "\n",
    "test_adv_correct = len(np.where(test_adv_joint_score >= threshold)[0])\n",
    "test_adv_wrong = len(np.where(test_adv_joint_score < threshold)[0])\n",
    "\n",
    "print(\"Normal: correct: {}, wrong: {}\".format(test_normal_correct, test_normal_wrong))\n",
    "print(\"Adv: correct: {}, wrong: {}\".format(test_adv_correct, test_adv_wrong))"
   ]
  },
  {
   "cell_type": "code",
   "execution_count": 182,
   "metadata": {},
   "outputs": [
    {
     "data": {
      "text/plain": [
       "array([0.00847198, 0.01814767, 0.13415639, 0.03535153, 0.12765669,\n",
       "       0.20768248, 0.11301157, 0.04046599, 0.03864153, 0.19789708,\n",
       "       0.00240487, 0.02409474, 0.04619018, 0.00468437, 0.05372998,\n",
       "       0.00560765, 0.05263123, 0.00964388, 0.00653007, 0.38018179,\n",
       "       0.0037933 , 0.0158507 , 0.12249766, 0.08965938, 0.1882153 ,\n",
       "       0.11532759, 0.02172118, 0.05667793, 0.07885898, 0.04213491,\n",
       "       0.24349999, 0.10197512, 0.03710603, 0.03558347, 0.02138967,\n",
       "       0.11618573, 0.02310413, 0.04991977, 0.05403721, 0.18842127,\n",
       "       0.15169165, 0.04505714, 0.01528625, 0.0044973 , 0.0166958 ,\n",
       "       0.02015726, 0.01232654, 0.05040853, 0.23682663, 0.05649434,\n",
       "       0.47334809, 0.00928073, 0.02963797, 0.49382267, 0.07636087,\n",
       "       0.05530322, 0.43987976, 0.01425727, 0.01320185, 1.02456747,\n",
       "       0.1344461 , 0.16449621, 0.03998705, 0.01420938, 0.502755  ,\n",
       "       0.10803428, 0.10243867, 0.00848412, 0.00917727, 0.00889779,\n",
       "       0.06872191, 0.02628149, 0.02215005, 0.04729381, 0.02655784,\n",
       "       0.04739876, 0.22532345, 0.06936188, 0.12423879, 0.05781946,\n",
       "       0.00281314, 0.00999042, 0.23066306, 0.03238827, 0.1428038 ,\n",
       "       0.08986811, 0.11092175, 0.06639282, 0.21762531, 0.02108006,\n",
       "       0.23853122, 0.1017273 , 0.01884912, 0.02218099, 0.27024545,\n",
       "       0.43436477, 0.01410294, 0.18430675, 0.03084053, 0.25973935])"
      ]
     },
     "execution_count": 182,
     "metadata": {},
     "output_type": "execute_result"
    }
   ],
   "source": [
    "test_adv_joint_score"
   ]
  },
  {
   "cell_type": "code",
   "execution_count": 183,
   "metadata": {},
   "outputs": [
    {
     "data": {
      "text/plain": [
       "array([8.68004999e-03, 2.03673056e-02, 2.57823333e-01, 1.43288566e-02,\n",
       "       4.22639501e-02, 8.75281367e-02, 1.41345417e-02, 2.45272370e-02,\n",
       "       7.56820628e-02, 3.13966675e-01, 7.52332374e-03, 2.00452669e-02,\n",
       "       3.19490677e-02, 6.31811748e-03, 2.45067806e-02, 4.14264072e-03,\n",
       "       4.60346703e-02, 9.53459698e-03, 1.73838259e-02, 3.15850779e-01,\n",
       "       7.94204585e-03, 5.44778653e-02, 1.31330170e-01, 3.07192488e-01,\n",
       "       1.86368262e-01, 1.94435431e-01, 2.30666247e-02, 4.84046010e-02,\n",
       "       2.07266183e-01, 6.83436469e-02, 3.11565205e-01, 9.75276913e-02,\n",
       "       5.26629278e-02, 2.45706865e-02, 1.36065004e-02, 5.19587383e-02,\n",
       "       5.56759893e-02, 4.69906642e-02, 4.10905622e-02, 6.26291790e-01,\n",
       "       4.14407106e-02, 5.68337791e-02, 8.47009164e-03, 6.49490166e-04,\n",
       "       3.99864718e-03, 1.69838700e-02, 6.83141121e-02, 6.62921745e-02,\n",
       "       1.23842223e-01, 9.42602630e-02, 3.55009028e-01, 1.00510321e-02,\n",
       "       4.16578666e-02, 1.68936797e-01, 8.75428626e-02, 8.11686541e-02,\n",
       "       1.68182565e-01, 2.15033830e-02, 1.42286710e-02, 4.52651408e-01,\n",
       "       4.52653108e-02, 2.81345379e-01, 2.44735955e-02, 7.55136803e-02,\n",
       "       4.13771306e-01, 2.72253840e-02, 2.46109122e-01, 5.26913452e-04,\n",
       "       1.19465250e-02, 8.02630727e-03, 5.12569531e-02, 2.47244423e-02,\n",
       "       1.55194067e-01, 5.43870485e-02, 1.04919115e-02, 1.36891017e-01,\n",
       "       1.13962830e-01, 1.47044105e-01, 4.73021637e-02, 3.76411969e-02,\n",
       "       7.50270966e-03, 4.50942277e-03, 5.11557036e-02, 1.60859105e-02,\n",
       "       1.99706688e-01, 9.40647977e-02, 1.39287197e-01, 5.51492498e-02,\n",
       "       5.60886201e-02, 3.61176685e-02, 1.03183981e-01, 9.20077612e-02,\n",
       "       2.97824834e-02, 1.05559100e-02, 3.64931948e-01, 1.98721997e-01,\n",
       "       2.62714076e-02, 4.81941558e-02, 1.78939028e-02, 2.37167451e-01])"
      ]
     },
     "execution_count": 183,
     "metadata": {},
     "output_type": "execute_result"
    }
   ],
   "source": [
    "test_normal_joint_score"
   ]
  },
  {
   "cell_type": "code",
   "execution_count": 184,
   "metadata": {},
   "outputs": [],
   "source": [
    "a = np.where(test_adv_joint_score > test_normal_joint_score)"
   ]
  },
  {
   "cell_type": "code",
   "execution_count": 185,
   "metadata": {},
   "outputs": [
    {
     "data": {
      "text/plain": [
       "(array([ 3,  4,  5,  6,  7, 11, 12, 14, 15, 16, 17, 19, 24, 27, 31, 33, 34,\n",
       "        35, 37, 38, 40, 42, 43, 44, 45, 48, 50, 53, 56, 59, 60, 62, 64, 65,\n",
       "        67, 69, 70, 71, 74, 76, 78, 79, 81, 82, 83, 87, 88, 90, 91, 93, 95,\n",
       "        97, 98, 99], dtype=int64),)"
      ]
     },
     "execution_count": 185,
     "metadata": {},
     "output_type": "execute_result"
    }
   ],
   "source": [
    "a\n"
   ]
  },
  {
   "cell_type": "code",
   "execution_count": null,
   "metadata": {},
   "outputs": [],
   "source": []
  }
 ],
 "metadata": {
  "kernelspec": {
   "display_name": "Python 3",
   "language": "python",
   "name": "python3"
  },
  "language_info": {
   "codemirror_mode": {
    "name": "ipython",
    "version": 3
   },
   "file_extension": ".py",
   "mimetype": "text/x-python",
   "name": "python",
   "nbconvert_exporter": "python",
   "pygments_lexer": "ipython3",
   "version": "3.6.7"
  },
  "toc": {
   "base_numbering": 1,
   "nav_menu": {},
   "number_sections": true,
   "sideBar": true,
   "skip_h1_title": false,
   "title_cell": "Table of Contents",
   "title_sidebar": "Contents",
   "toc_cell": false,
   "toc_position": {},
   "toc_section_display": true,
   "toc_window_display": false
  },
  "varInspector": {
   "cols": {
    "lenName": 16,
    "lenType": 16,
    "lenVar": 40
   },
   "kernels_config": {
    "python": {
     "delete_cmd_postfix": "",
     "delete_cmd_prefix": "del ",
     "library": "var_list.py",
     "varRefreshCmd": "print(var_dic_list())"
    },
    "r": {
     "delete_cmd_postfix": ") ",
     "delete_cmd_prefix": "rm(",
     "library": "var_list.r",
     "varRefreshCmd": "cat(var_dic_list()) "
    }
   },
   "types_to_exclude": [
    "module",
    "function",
    "builtin_function_or_method",
    "instance",
    "_Feature"
   ],
   "window_display": false
  }
 },
 "nbformat": 4,
 "nbformat_minor": 2
}
