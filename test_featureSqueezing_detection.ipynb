{
 "cells": [
  {
   "cell_type": "code",
   "execution_count": 4,
   "metadata": {},
   "outputs": [],
   "source": [
    "import numpy as np\n",
    "import matplotlib.pyplot as plt\n",
    "import pickle\n",
    "import os\n",
    "import scipy.io\n",
    "import copy"
   ]
  },
  {
   "cell_type": "code",
   "execution_count": 6,
   "metadata": {},
   "outputs": [],
   "source": [
    "adv_robust_root_path = os.path.join(\"..\", \"adv_robust\")\n",
    "import sys\n",
    "# include parent dir in the python search path\n",
    "sys.path.append(adv_robust_root_path)\n",
    "import fig_utils as u\n",
    "import gllim"
   ]
  },
  {
   "cell_type": "code",
   "execution_count": 9,
   "metadata": {},
   "outputs": [],
   "source": [
    "# load data, normal and adv images\n",
    "\n",
    "data_root_path = os.path.join(adv_robust_root_path, \"tf_autozoom_2d_randVec20\")\n",
    "data_path = os.path.join(data_root_path, \"all_results.pkl\")\n",
    "with open(data_path, \"rb\") as f:\n",
    "    d = pickle.load(f)\n",
    "true_train_x = d[\"true_x\"]\n",
    "true_train_y = d[\"true_y\"]\n",
    "adv_train_x = d[\"adv_x\"]\n",
    "\n",
    "\n",
    "# read in adversarial results for testing data\n",
    "data_path = os.path.join(data_root_path, \"all_test_results.pkl\")\n",
    "with open(data_path, \"rb\") as f:\n",
    "    d = pickle.load(f)\n",
    "true_test_x = d[\"true_x\"]\n",
    "true_test_y = d[\"true_y\"]\n",
    "adv_test_x = d[\"adv_x\"]\n",
    "\n",
    "\n",
    "# load corrupted images\n",
    "with open(os.path.join(adv_robust_root_path, \"corrupt_img\", \"test_corrupt_img.pkl\"), \"rb\") as f:\n",
    "    corrupted_test_x = pickle.load(f)\n",
    "with open(os.path.join(adv_robust_root_path, \"corrupt_img\", \"test_corrupt_region.pkl\"), \"rb\") as f:\n",
    "    corrupted_test_region = pickle.load(f)\n",
    "with open(os.path.join(adv_robust_root_path, \"corrupt_img\", \"test_rec_img.pkl\"), \"rb\") as f:\n",
    "    rec_test_x = pickle.load(f)"
   ]
  },
  {
   "cell_type": "code",
   "execution_count": null,
   "metadata": {},
   "outputs": [],
   "source": [
    "from datasets import MNISTDataset"
   ]
  },
  {
   "cell_type": "code",
   "execution_count": null,
   "metadata": {},
   "outputs": [],
   "source": []
  }
 ],
 "metadata": {
  "kernelspec": {
   "display_name": "Python 3",
   "language": "python",
   "name": "python3"
  },
  "language_info": {
   "codemirror_mode": {
    "name": "ipython",
    "version": 3
   },
   "file_extension": ".py",
   "mimetype": "text/x-python",
   "name": "python",
   "nbconvert_exporter": "python",
   "pygments_lexer": "ipython3",
   "version": "3.6.6"
  }
 },
 "nbformat": 4,
 "nbformat_minor": 2
}
